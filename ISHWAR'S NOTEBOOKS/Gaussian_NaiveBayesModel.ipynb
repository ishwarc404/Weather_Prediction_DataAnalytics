{
 "cells": [
  {
   "cell_type": "code",
   "execution_count": 6,
   "metadata": {},
   "outputs": [],
   "source": [
    "import pandas as pd\n",
    "import numpy as np\n",
    "from sklearn.naive_bayes import GaussianNB\n",
    "from sklearn.model_selection import train_test_split\n",
    "from sklearn.preprocessing import LabelEncoder\n",
    "from sklearn.preprocessing import StandardScaler\n",
    "from sklearn.model_selection import cross_val_score\n",
    "from sklearn.model_selection import KFold\n",
    "from sklearn.preprocessing import LabelEncoder\n",
    "from sklearn.pipeline import Pipeline\n",
    "from sklearn.externals import joblib\n",
    "import matplotlib.pyplot as plt\n",
    "import seaborn as sns; sns.set()\n",
    "from sklearn.metrics import confusion_matrix\n",
    "\n",
    "\n"
   ]
  },
  {
   "cell_type": "code",
   "execution_count": 7,
   "metadata": {},
   "outputs": [],
   "source": [
    "#loading in all the csv files\n",
    "df1 = pd.read_csv('44065_clean.csv')\n",
    "df2 = pd.read_csv('44009_clean.csv')\n",
    "df = df1.append(df2)\n",
    "df = df.loc[:, ~df.columns.str.contains('^Unnamed')]\n"
   ]
  },
  {
   "cell_type": "code",
   "execution_count": 11,
   "metadata": {},
   "outputs": [
    {
     "name": "stdout",
     "output_type": "stream",
     "text": [
      "(16651, 2)\n",
      "Score: 0.9723765200420358\n"
     ]
    },
    {
     "name": "stderr",
     "output_type": "stream",
     "text": [
      "/Users/ishwar/anaconda3/lib/python3.7/site-packages/sklearn/utils/validation.py:724: DataConversionWarning: A column-vector y was passed when a 1d array was expected. Please change the shape of y to (n_samples, ), for example using ravel().\n",
      "  y = column_or_1d(y, warn=True)\n"
     ]
    },
    {
     "data": {
      "image/png": "[encoded data removed]",
      "text/plain": [
       "<Figure size 432x288 with 1 Axes>"
      ]
     },
     "metadata": {},
     "output_type": "display_data"
    }
   ],
   "source": [
    "#https://dataaspirant.com/2017/02/20/gaussian-naive-bayes-classifier-implementation-python/\n",
    "def NBmodel(cols, pred):\n",
    "\n",
    "    x_cols = np.array(df[cols].values)\n",
    "    y_cols = np.array(df[pred].values)\n",
    "    print(x_cols.shape)\n",
    "    clf = GaussianNB()\n",
    "    x_train, x_test, y_train, y_test = train_test_split(x_cols, y_cols, test_size=0.40)\n",
    "\n",
    "    clf.fit(x_train, y_train)\n",
    "    print(\"Score:\",clf.score(x_test, y_test))\n",
    "    joblib.dump(clf, 'model.pkl') #dumping the model\n",
    "\n",
    "    pred = clf.predict(x_test)\n",
    "\n",
    "    # Plot Confusion Matrix\n",
    "    mat = confusion_matrix(pred, y_test)\n",
    "    names = np.unique(pred)\n",
    "    sns.heatmap(mat, square=True, annot=True, fmt='d', cbar=False,\n",
    "                xticklabels=names, yticklabels=names)\n",
    "    plt.xlabel('Truth')\n",
    "    plt.ylabel('Predicted')\n",
    "    plt.show()\n",
    "\n",
    "\n",
    "cols = ['pressure','windspeed']\n",
    "pred = ['hurrthreat']\n",
    "\n",
    "\n",
    "NBmodel(cols, pred) #calling the classifier model"
   ]
  },
  {
   "cell_type": "code",
   "execution_count": null,
   "metadata": {},
   "outputs": [],
   "source": []
  }
 ],
 "metadata": {
  "kernelspec": {
   "display_name": "Python 3",
   "language": "python",
   "name": "python3"
  },
  "language_info": {
   "codemirror_mode": {
    "name": "ipython",
    "version": 3
   },
   "file_extension": ".py",
   "mimetype": "text/x-python",
   "name": "python",
   "nbconvert_exporter": "python",
   "pygments_lexer": "ipython3",
   "version": "3.7.3"
  }
 },
 "nbformat": 4,
 "nbformat_minor": 2
}
